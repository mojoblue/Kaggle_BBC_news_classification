{
  "nbformat": 4,
  "nbformat_minor": 0,
  "metadata": {
    "colab": {
      "name": "BBC_news_classification.ipynb",
      "version": "0.3.2",
      "provenance": [],
      "collapsed_sections": []
    },
    "kernelspec": {
      "name": "python3",
      "display_name": "Python 3"
    }
  },
  "cells": [
    {
      "metadata": {
        "id": "veNPGfYcGxzf",
        "colab_type": "code",
        "colab": {}
      },
      "cell_type": "code",
      "source": [
        "import tensorflow as tf\n",
        "import numpy as np\n",
        "from gensim.parsing.preprocessing import preprocess_string\n",
        "import pandas as pd\n",
        "import io"
      ],
      "execution_count": 0,
      "outputs": []
    },
    {
      "metadata": {
        "id": "irTIx-rvL0cc",
        "colab_type": "text"
      },
      "cell_type": "markdown",
      "source": [
        "Mount drive files"
      ]
    },
    {
      "metadata": {
        "id": "zKKUhMrnG3H_",
        "colab_type": "code",
        "colab": {
          "base_uri": "https://localhost:8080/",
          "height": 34
        },
        "outputId": "a19d53da-bd9e-40af-f17d-8d9e4db8dc8c"
      },
      "cell_type": "code",
      "source": [
        "from google.colab import drive\n",
        "drive.mount('/content/gdrive')"
      ],
      "execution_count": 35,
      "outputs": [
        {
          "output_type": "stream",
          "text": [
            "Drive already mounted at /content/gdrive; to attempt to forcibly remount, call drive.mount(\"/content/gdrive\", force_remount=True).\n"
          ],
          "name": "stdout"
        }
      ]
    },
    {
      "metadata": {
        "id": "Zb6KDsZicY4k",
        "colab_type": "text"
      },
      "cell_type": "markdown",
      "source": [
        "Do preprocessing news data text using gensim\n",
        "https://radimrehurek.com/gensim/parsing/preprocessing.html"
      ]
    },
    {
      "metadata": {
        "id": "kUzrS8c2oGli",
        "colab_type": "code",
        "colab": {}
      },
      "cell_type": "code",
      "source": [
        "category2Index = {\n",
        "    \"sport\" : 0,\n",
        "    \"tech\" : 1,\n",
        "    \"business\" : 2,\n",
        "    \"entertainment\" : 3,\n",
        "    \"politics\" : 4\n",
        "}"
      ],
      "execution_count": 0,
      "outputs": []
    },
    {
      "metadata": {
        "id": "KZnclt_OpxgG",
        "colab_type": "code",
        "colab": {}
      },
      "cell_type": "code",
      "source": [
        "index2Category = {\n",
        "    0 : \"sport\",\n",
        "    1 : \"tech\",\n",
        "    2 : \"business\",\n",
        "    3 : \"entertainment\",\n",
        "    4 : \"politics\"\n",
        "}"
      ],
      "execution_count": 0,
      "outputs": []
    },
    {
      "metadata": {
        "id": "3mE7N6PEVk6K",
        "colab_type": "code",
        "colab": {}
      },
      "cell_type": "code",
      "source": [
        "df = pd.read_csv('/content/gdrive/My Drive/learn-ai-bbc/BBC News Train.csv', encoding=\"utf-8\")"
      ],
      "execution_count": 0,
      "outputs": []
    },
    {
      "metadata": {
        "id": "vbignXNhV9T6",
        "colab_type": "code",
        "colab": {}
      },
      "cell_type": "code",
      "source": [
        "# preprocessed news data( Text => preprocessed Word ) and category2index\n",
        "df['Text'] = df['Text'].map(lambda x : preprocess_string(x))\n",
        "df['Category'] = df['Category'].map(lambda x: category2Index[x])"
      ],
      "execution_count": 0,
      "outputs": []
    },
    {
      "metadata": {
        "id": "DKvX_X_UWFNW",
        "colab_type": "code",
        "outputId": "611e754b-6fa3-41e1-eac3-69e0c5043b65",
        "colab": {
          "base_uri": "https://localhost:8080/",
          "height": 68
        }
      },
      "cell_type": "code",
      "source": [
        "print(df['Text'][:2])"
      ],
      "execution_count": 41,
      "outputs": [
        {
          "output_type": "stream",
          "text": [
            "0    [worldcom, boss, launch, defenc, lawyer, defen...\n",
            "1    [german, busi, confid, slide, german, busi, co...\n",
            "Name: Text, dtype: object\n"
          ],
          "name": "stdout"
        }
      ]
    },
    {
      "metadata": {
        "id": "I5xr1OHLc83j",
        "colab_type": "code",
        "colab": {
          "base_uri": "https://localhost:8080/",
          "height": 68
        },
        "outputId": "a46c0fd7-4e46-43c2-fccc-944a25dc4c56"
      },
      "cell_type": "code",
      "source": [
        "print(df['Category'][:2])"
      ],
      "execution_count": 42,
      "outputs": [
        {
          "output_type": "stream",
          "text": [
            "0    2\n",
            "1    2\n",
            "Name: Category, dtype: int64\n"
          ],
          "name": "stdout"
        }
      ]
    },
    {
      "metadata": {
        "id": "8IOYvK4j8y7L",
        "colab_type": "text"
      },
      "cell_type": "markdown",
      "source": [
        "Load GloVe model twitter 100 dimension\n"
      ]
    },
    {
      "metadata": {
        "id": "TPeVmOED7Nio",
        "colab_type": "code",
        "colab": {}
      },
      "cell_type": "code",
      "source": [
        "def loadGloveModel(gloveFile):\n",
        "  print(\"Loading GloVe Model\")\n",
        "  model = {}\n",
        "  with open(gloveFile) as f:\n",
        "    for line in f:\n",
        "      splitLine = line.split()\n",
        "      word = splitLine[0]\n",
        "      embedding = np.array([float(val) for val in splitLine[1:]])\n",
        "      model[word] = embedding\n",
        "  print(\"Done.\", len(model), \" words loaded!\")\n",
        "  return model"
      ],
      "execution_count": 0,
      "outputs": []
    },
    {
      "metadata": {
        "id": "BjpmA3Mgmf0A",
        "colab_type": "code",
        "colab": {
          "base_uri": "https://localhost:8080/",
          "height": 51
        },
        "outputId": "5f5bf1e4-5ccb-4a5f-c0f4-9026e4618b09"
      },
      "cell_type": "code",
      "source": [
        "gloveModel = loadGloveModel('/content/gdrive/My Drive/learn-ai-bbc/glove.twitter.27B.100d.txt')"
      ],
      "execution_count": 43,
      "outputs": [
        {
          "output_type": "stream",
          "text": [
            "Loading GloVe Model\n",
            "Done. 1193515  words loaded!\n"
          ],
          "name": "stdout"
        }
      ]
    },
    {
      "metadata": {
        "id": "tB-dqztp8Jb4",
        "colab_type": "code",
        "colab": {}
      },
      "cell_type": "code",
      "source": [
        ""
      ],
      "execution_count": 0,
      "outputs": []
    }
  ]
}